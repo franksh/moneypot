{
 "cells": [
  {
   "cell_type": "code",
   "execution_count": 3,
   "metadata": {},
   "outputs": [
    {
     "name": "stdout",
     "output_type": "stream",
     "text": [
      "Set context notex.\n"
     ]
    }
   ],
   "source": [
    "import pandas as pd\n",
    "import matplotlib.pyplot as plt\n",
    "import niceplot\n",
    "import investpy\n",
    "import pandas_datareader as pdr\n",
    "\n",
    "niceplot.set_context('notex')"
   ]
  },
  {
   "cell_type": "code",
   "execution_count": 9,
   "metadata": {},
   "outputs": [],
   "source": [
    "df = investpy.get_stock_recent_data(stock='gme', country='united states')"
   ]
  },
  {
   "cell_type": "code",
   "execution_count": 10,
   "metadata": {},
   "outputs": [
    {
     "data": {
      "text/html": [
       "<div>\n",
       "<style scoped>\n",
       "    .dataframe tbody tr th:only-of-type {\n",
       "        vertical-align: middle;\n",
       "    }\n",
       "\n",
       "    .dataframe tbody tr th {\n",
       "        vertical-align: top;\n",
       "    }\n",
       "\n",
       "    .dataframe thead th {\n",
       "        text-align: right;\n",
       "    }\n",
       "</style>\n",
       "<table border=\"1\" class=\"dataframe\">\n",
       "  <thead>\n",
       "    <tr style=\"text-align: right;\">\n",
       "      <th></th>\n",
       "      <th>Open</th>\n",
       "      <th>High</th>\n",
       "      <th>Low</th>\n",
       "      <th>Close</th>\n",
       "      <th>Volume</th>\n",
       "      <th>Currency</th>\n",
       "    </tr>\n",
       "    <tr>\n",
       "      <th>Date</th>\n",
       "      <th></th>\n",
       "      <th></th>\n",
       "      <th></th>\n",
       "      <th></th>\n",
       "      <th></th>\n",
       "      <th></th>\n",
       "    </tr>\n",
       "  </thead>\n",
       "  <tbody>\n",
       "    <tr>\n",
       "      <th>2021-01-04</th>\n",
       "      <td>19.06</td>\n",
       "      <td>19.08</td>\n",
       "      <td>17.17</td>\n",
       "      <td>17.25</td>\n",
       "      <td>10022474</td>\n",
       "      <td>USD</td>\n",
       "    </tr>\n",
       "    <tr>\n",
       "      <th>2021-01-05</th>\n",
       "      <td>17.31</td>\n",
       "      <td>18.06</td>\n",
       "      <td>17.23</td>\n",
       "      <td>17.37</td>\n",
       "      <td>4961457</td>\n",
       "      <td>USD</td>\n",
       "    </tr>\n",
       "    <tr>\n",
       "      <th>2021-01-06</th>\n",
       "      <td>17.46</td>\n",
       "      <td>18.98</td>\n",
       "      <td>17.45</td>\n",
       "      <td>18.36</td>\n",
       "      <td>6056248</td>\n",
       "      <td>USD</td>\n",
       "    </tr>\n",
       "    <tr>\n",
       "      <th>2021-01-07</th>\n",
       "      <td>18.78</td>\n",
       "      <td>19.43</td>\n",
       "      <td>18.03</td>\n",
       "      <td>18.08</td>\n",
       "      <td>6129276</td>\n",
       "      <td>USD</td>\n",
       "    </tr>\n",
       "    <tr>\n",
       "      <th>2021-01-08</th>\n",
       "      <td>18.18</td>\n",
       "      <td>18.30</td>\n",
       "      <td>17.08</td>\n",
       "      <td>17.69</td>\n",
       "      <td>6481960</td>\n",
       "      <td>USD</td>\n",
       "    </tr>\n",
       "  </tbody>\n",
       "</table>\n",
       "</div>"
      ],
      "text/plain": [
       "             Open   High    Low  Close    Volume Currency\n",
       "Date                                                     \n",
       "2021-01-04  19.06  19.08  17.17  17.25  10022474      USD\n",
       "2021-01-05  17.31  18.06  17.23  17.37   4961457      USD\n",
       "2021-01-06  17.46  18.98  17.45  18.36   6056248      USD\n",
       "2021-01-07  18.78  19.43  18.03  18.08   6129276      USD\n",
       "2021-01-08  18.18  18.30  17.08  17.69   6481960      USD"
      ]
     },
     "execution_count": 10,
     "metadata": {},
     "output_type": "execute_result"
    }
   ],
   "source": [
    "df.head()"
   ]
  },
  {
   "cell_type": "code",
   "execution_count": 11,
   "metadata": {},
   "outputs": [
    {
     "name": "stdout",
     "output_type": "stream",
     "text": [
      "<class 'pandas.core.frame.DataFrame'>\n",
      "DatetimeIndex: 21 entries, 2021-01-04 to 2021-02-02\n",
      "Data columns (total 6 columns):\n",
      " #   Column    Non-Null Count  Dtype  \n",
      "---  ------    --------------  -----  \n",
      " 0   Open      21 non-null     float64\n",
      " 1   High      21 non-null     float64\n",
      " 2   Low       21 non-null     float64\n",
      " 3   Close     21 non-null     float64\n",
      " 4   Volume    21 non-null     int64  \n",
      " 5   Currency  21 non-null     object \n",
      "dtypes: float64(4), int64(1), object(1)\n",
      "memory usage: 1.1+ KB\n"
     ]
    }
   ],
   "source": [
    "df.info()"
   ]
  },
  {
   "cell_type": "code",
   "execution_count": 13,
   "metadata": {},
   "outputs": [
    {
     "data": {
      "image/png": "[encoded data removed]",
      "text/plain": [
       "<Figure size 360x222.493 with 1 Axes>"
      ]
     },
     "metadata": {},
     "output_type": "display_data"
    }
   ],
   "source": [
    "plt.scatter(df['Open'], df['Close'])\n",
    "plt.show()"
   ]
  },
  {
   "cell_type": "code",
   "execution_count": 8,
   "metadata": {},
   "outputs": [
    {
     "data": {
      "text/plain": [
       "['argentina',\n",
       " 'brazil',\n",
       " 'canada',\n",
       " 'chile',\n",
       " 'colombia',\n",
       " 'costa rica',\n",
       " 'jamaica',\n",
       " 'mexico',\n",
       " 'peru',\n",
       " 'united states',\n",
       " 'venezuela',\n",
       " 'austria',\n",
       " 'belgium',\n",
       " 'bosnia',\n",
       " 'bulgaria',\n",
       " 'croatia',\n",
       " 'cyprus',\n",
       " 'czech republic',\n",
       " 'denmark',\n",
       " 'finland',\n",
       " 'france',\n",
       " 'germany',\n",
       " 'greece',\n",
       " 'hungary',\n",
       " 'iceland',\n",
       " 'ireland',\n",
       " 'italy',\n",
       " 'luxembourg',\n",
       " 'malta',\n",
       " 'montenegro',\n",
       " 'netherlands',\n",
       " 'norway',\n",
       " 'poland',\n",
       " 'portugal',\n",
       " 'romania',\n",
       " 'russia',\n",
       " 'serbia',\n",
       " 'slovakia',\n",
       " 'slovenia',\n",
       " 'spain',\n",
       " 'sweden',\n",
       " 'switzerland',\n",
       " 'turkey',\n",
       " 'ukraine',\n",
       " 'united kingdom',\n",
       " 'australia',\n",
       " 'bangladesh',\n",
       " 'china',\n",
       " 'hong kong',\n",
       " 'india',\n",
       " 'indonesia',\n",
       " 'japan',\n",
       " 'kazakhstan',\n",
       " 'malaysia',\n",
       " 'mongolia',\n",
       " 'new zealand',\n",
       " 'pakistan',\n",
       " 'philippines',\n",
       " 'singapore',\n",
       " 'south korea',\n",
       " 'sri lanka',\n",
       " 'taiwan',\n",
       " 'thailand',\n",
       " 'vietnam',\n",
       " 'bahrain',\n",
       " 'egypt',\n",
       " 'iraq',\n",
       " 'israel',\n",
       " 'jordan',\n",
       " 'kuwait',\n",
       " 'lebanon',\n",
       " 'oman',\n",
       " 'palestine',\n",
       " 'qatar',\n",
       " 'saudi arabia',\n",
       " 'dubai',\n",
       " 'botswana',\n",
       " 'ivory coast',\n",
       " 'kenya',\n",
       " 'malawi',\n",
       " 'mauritius',\n",
       " 'morocco',\n",
       " 'namibia',\n",
       " 'nigeria',\n",
       " 'rwanda',\n",
       " 'south africa',\n",
       " 'tanzania',\n",
       " 'tunisia',\n",
       " 'uganda',\n",
       " 'zambia',\n",
       " 'zimbabwe']"
      ]
     },
     "execution_count": 8,
     "metadata": {},
     "output_type": "execute_result"
    }
   ],
   "source": [
    "investpy.get_stock_countries()"
   ]
  },
  {
   "cell_type": "code",
   "execution_count": null,
   "metadata": {},
   "outputs": [],
   "source": []
  }
 ],
 "metadata": {
  "hide_input": false,
  "kernelspec": {
   "display_name": "Python 3",
   "language": "python",
   "name": "python3"
  },
  "language_info": {
   "codemirror_mode": {
    "name": "ipython",
    "version": 3
   },
   "file_extension": ".py",
   "mimetype": "text/x-python",
   "name": "python",
   "nbconvert_exporter": "python",
   "pygments_lexer": "ipython3",
   "version": "3.8.5"
  },
  "toc": {
   "base_numbering": 1,
   "nav_menu": {},
   "number_sections": true,
   "sideBar": true,
   "skip_h1_title": false,
   "title_cell": "Table of Contents",
   "title_sidebar": "Contents",
   "toc_cell": false,
   "toc_position": {},
   "toc_section_display": true,
   "toc_window_display": false
  }
 },
 "nbformat": 4,
 "nbformat_minor": 4
}
