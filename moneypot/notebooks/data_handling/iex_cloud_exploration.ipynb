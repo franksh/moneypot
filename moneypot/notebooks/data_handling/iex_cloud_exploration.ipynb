{
 "metadata": {
  "language_info": {
   "codemirror_mode": {
    "name": "ipython",
    "version": 3
   },
   "file_extension": ".py",
   "mimetype": "text/x-python",
   "name": "python",
   "nbconvert_exporter": "python",
   "pygments_lexer": "ipython3",
   "version": "3.8.5-final"
  },
  "orig_nbformat": 2,
  "kernelspec": {
   "name": "python3",
   "display_name": "Python 3.8.5 64-bit ('venv')",
   "metadata": {
    "interpreter": {
     "hash": "c71ef7bee67727c467578710733ba96646bf5e8afbcb7003581ad4526cb66add"
    }
   }
  }
 },
 "nbformat": 4,
 "nbformat_minor": 2,
 "cells": [
  {
   "cell_type": "code",
   "execution_count": 13,
   "metadata": {},
   "outputs": [
    {
     "output_type": "stream",
     "name": "stdout",
     "text": [
      "The autoreload extension is already loaded. To reload it, use:\n  %reload_ext autoreload\n"
     ]
    }
   ],
   "source": [
    "%load_ext autoreload\n",
    "%autoreload 2\n",
    "from moneypot import DataHandler"
   ]
  },
  {
   "cell_type": "code",
   "execution_count": 26,
   "metadata": {},
   "outputs": [
    {
     "output_type": "stream",
     "name": "stdout",
     "text": [
      "no config given, using config at/Users/frank/.moneypot_config/moneypot.cfg\n"
     ]
    }
   ],
   "source": [
    "dh = DataHandler()\n",
    "# dh.config"
   ]
  },
  {
   "cell_type": "code",
   "execution_count": 27,
   "metadata": {},
   "outputs": [
    {
     "output_type": "execute_result",
     "data": {
      "text/plain": [
       "'https://sandbox.iexapis.com/stable/stock/AAPL/quote?token=sk_a52bb159b78b4f098afb91b4e3f13c36'"
      ]
     },
     "metadata": {},
     "execution_count": 27
    }
   ],
   "source": [
    "api_url"
   ]
  },
  {
   "cell_type": "code",
   "execution_count": 30,
   "metadata": {},
   "outputs": [],
   "source": [
    "import requests\n",
    "IEX_CLOUD_API_TOKEN_SECRET = dh.config['IEX_CLOUD']['SANDBOX_TOKEN_SECRET']\n",
    "symbol='AAPL'\n",
    "api_url = f'https://sandbox.iexapis.com/stable/stock/{symbol}/quote?token={IEX_CLOUD_API_TOKEN_SECRET}'\n",
    "data = requests.get(api_url).json()"
   ]
  },
  {
   "cell_type": "code",
   "execution_count": 29,
   "metadata": {},
   "outputs": [
    {
     "output_type": "execute_result",
     "data": {
      "text/plain": [
       "{'symbol': 'AAPL',\n",
       " 'companyName': 'Apple Inc',\n",
       " 'primaryExchange': 'AALNANTLSEEG Q)CTSSKBR/LAME DOG (',\n",
       " 'calculationPrice': 'tops',\n",
       " 'open': None,\n",
       " 'openTime': None,\n",
       " 'openSource': 'focalfii',\n",
       " 'close': None,\n",
       " 'closeTime': None,\n",
       " 'closeSource': 'lificofa',\n",
       " 'high': None,\n",
       " 'highTime': None,\n",
       " 'highSource': None,\n",
       " 'low': None,\n",
       " 'lowTime': None,\n",
       " 'lowSource': None,\n",
       " 'latestPrice': 137.19,\n",
       " 'latestSource': 'IEX real time price',\n",
       " 'latestTime': '12:16:48 PM',\n",
       " 'latestUpdate': 1640366150479,\n",
       " 'latestVolume': None,\n",
       " 'iexRealtimePrice': 140.39,\n",
       " 'iexRealtimeSize': 4,\n",
       " 'iexLastUpdated': 1615780264275,\n",
       " 'delayedPrice': None,\n",
       " 'delayedPriceTime': None,\n",
       " 'oddLotDelayedPrice': None,\n",
       " 'oddLotDelayedPriceTime': None,\n",
       " 'extendedPrice': None,\n",
       " 'extendedChange': None,\n",
       " 'extendedChangePercent': None,\n",
       " 'extendedPriceTime': None,\n",
       " 'previousClose': 140.07,\n",
       " 'previousVolume': 78101244,\n",
       " 'change': -0.58,\n",
       " 'changePercent': -0.00422,\n",
       " 'volume': None,\n",
       " 'iexMarketPercent': 0.013389532122174579,\n",
       " 'iexVolume': 505665,\n",
       " 'avgTotalVolume': 109160293,\n",
       " 'iexBidPrice': 142.1,\n",
       " 'iexBidSize': 208,\n",
       " 'iexAskPrice': 136.8,\n",
       " 'iexAskSize': 102,\n",
       " 'iexOpen': 139.63,\n",
       " 'iexOpenTime': 1686617103852,\n",
       " 'iexClose': 140.26,\n",
       " 'iexCloseTime': 1675034183022,\n",
       " 'marketCap': 2315680092089,\n",
       " 'peRatio': 37.37,\n",
       " 'week52High': 143.2,\n",
       " 'week52Low': 56.46,\n",
       " 'ytdChange': 0.028293855715878773,\n",
       " 'lastTradeTime': 1644003992250,\n",
       " 'isUSMarketOpen': True}"
      ]
     },
     "metadata": {},
     "execution_count": 29
    }
   ],
   "source": [
    "data"
   ]
  },
  {
   "cell_type": "code",
   "execution_count": 3,
   "metadata": {},
   "outputs": [
    {
     "output_type": "execute_result",
     "data": {
      "text/plain": [
       "<configparser.ConfigParser at 0x10b52fd90>"
      ]
     },
     "metadata": {},
     "execution_count": 3
    }
   ],
   "source": [
    "dh.config"
   ]
  },
  {
   "cell_type": "code",
   "execution_count": 3,
   "metadata": {},
   "outputs": [],
   "source": [
    "from moneypot import Base"
   ]
  },
  {
   "cell_type": "code",
   "execution_count": 10,
   "metadata": {},
   "outputs": [
    {
     "output_type": "stream",
     "name": "stdout",
     "text": [
      "no config given, using config at/Users/frank/.moneypot_config/moneypot.cfg\n"
     ]
    },
    {
     "output_type": "execute_result",
     "data": {
      "text/plain": [
       "'pk_5118ab67f6ff49ae84f12307a3495311'"
      ]
     },
     "metadata": {},
     "execution_count": 10
    }
   ],
   "source": [
    "Base().config['IEX_API']['IEX_CLOUD_API_TOKEN']"
   ]
  },
  {
   "cell_type": "code",
   "execution_count": null,
   "metadata": {},
   "outputs": [],
   "source": []
  }
 ]
}